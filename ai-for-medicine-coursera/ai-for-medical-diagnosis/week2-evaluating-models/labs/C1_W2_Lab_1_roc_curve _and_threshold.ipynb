{
 "cells": [
  {
   "cell_type": "markdown",
   "metadata": {},
   "source": [
    "# ROC Curve and Threshold\n",
    "\n",
    "## Introduction \n",
    "In this notebook, you will learn about the **Receiver Operating Characteristic** (ROC) curve and its applications, as well as understand how changing the threshold of decision in a predictor impacts the outcome.\n",
    "\n",
    "The ROC curve aims to measure the quality of a **binary estimator**, as it considers how the estimator is able to split between both classes, as we **vary the decision threshold**, i.e., as we vary the *value* where we consider a specific point as being part of class 0 or class 1. Usually, estimators use $0.5$ to split the classes, so if for a given point, the estimator returns $0.8$, then we classify the point as 1, whereas if a point has a predicted score of $0.3$ we classify it as $0$. \n",
    "\n",
    "Let's just recall some definitions:\n",
    "\n",
    "- `True Positive (TP)`: The model classifies the example as positive, and the actual label also positive.\n",
    "- `False Positive (FP)`: The model classifies the example as positive, **but** the actual label is negative.\n",
    "- `True Negative (TN)`: The model classifies the example as negative, and the actual label is also negative.\n",
    "- `False Negative (FN)`: The model classifies the example as negative, **but** the label is actually positive.\n",
    "\n",
    "To define and plot the ROC curve, we must define two quantities, the **False Positive Rate (FPR)** and the **True Positive Rate (TPR)**. Since both definitions are about the prevalence of false positive and true positive in our estimations and both definitions depends on the **threshold** we use to decide whether a point belongs to the positive class or the negative class, both **FPR** and **TPR** (as well TP, FP, TN and FN) are a function of the **decision threshold** (we will denote it by $th$) we use to classify the examples. Since the estimator predicts a probability, we thus have that $th \\in \\left[0,1\\right]$."
   ]
  },
  {
   "cell_type": "markdown",
   "metadata": {},
   "source": [
    "Let's load the necessary libraries."
   ]
  },
  {
   "cell_type": "code",
   "execution_count": 1,
   "metadata": {},
   "outputs": [],
   "source": [
    "import numpy as np\n",
    "import matplotlib.pyplot as plt\n",
    "import pandas as pd\n",
    "from utils import *\n",
    "np.random.seed(42) ## This line helps the reproducibility of the values"
   ]
  },
  {
   "cell_type": "markdown",
   "metadata": {},
   "source": [
    "The next cell will load a toy dataset (created for particular notebook), consisting of predicted values for a given point and a given estimator and the truth values of those examples. "
   ]
  },
  {
   "cell_type": "code",
   "execution_count": 2,
   "metadata": {},
   "outputs": [
    {
     "data": {
      "text/html": [
       "<div>\n",
       "<style scoped>\n",
       "    .dataframe tbody tr th:only-of-type {\n",
       "        vertical-align: middle;\n",
       "    }\n",
       "\n",
       "    .dataframe tbody tr th {\n",
       "        vertical-align: top;\n",
       "    }\n",
       "\n",
       "    .dataframe thead th {\n",
       "        text-align: right;\n",
       "    }\n",
       "</style>\n",
       "<table border=\"1\" class=\"dataframe\">\n",
       "  <thead>\n",
       "    <tr style=\"text-align: right;\">\n",
       "      <th></th>\n",
       "      <th>0</th>\n",
       "    </tr>\n",
       "  </thead>\n",
       "  <tbody>\n",
       "    <tr>\n",
       "      <th>0</th>\n",
       "      <td>0.0</td>\n",
       "    </tr>\n",
       "    <tr>\n",
       "      <th>1</th>\n",
       "      <td>1.0</td>\n",
       "    </tr>\n",
       "    <tr>\n",
       "      <th>2</th>\n",
       "      <td>1.0</td>\n",
       "    </tr>\n",
       "    <tr>\n",
       "      <th>3</th>\n",
       "      <td>1.0</td>\n",
       "    </tr>\n",
       "    <tr>\n",
       "      <th>4</th>\n",
       "      <td>1.0</td>\n",
       "    </tr>\n",
       "    <tr>\n",
       "      <th>5</th>\n",
       "      <td>0.0</td>\n",
       "    </tr>\n",
       "    <tr>\n",
       "      <th>6</th>\n",
       "      <td>0.0</td>\n",
       "    </tr>\n",
       "    <tr>\n",
       "      <th>7</th>\n",
       "      <td>0.0</td>\n",
       "    </tr>\n",
       "    <tr>\n",
       "      <th>8</th>\n",
       "      <td>1.0</td>\n",
       "    </tr>\n",
       "    <tr>\n",
       "      <th>9</th>\n",
       "      <td>1.0</td>\n",
       "    </tr>\n",
       "  </tbody>\n",
       "</table>\n",
       "</div>"
      ],
      "text/plain": [
       "     0\n",
       "0  0.0\n",
       "1  1.0\n",
       "2  1.0\n",
       "3  1.0\n",
       "4  1.0\n",
       "5  0.0\n",
       "6  0.0\n",
       "7  0.0\n",
       "8  1.0\n",
       "9  1.0"
      ]
     },
     "execution_count": 2,
     "metadata": {},
     "output_type": "execute_result"
    }
   ],
   "source": [
    "y = np.loadtxt('data/y_true_balanced_set.txt')\n",
    "pred = np.loadtxt('data/pred_balanced_set.txt')\n",
    "df_y = pd.DataFrame(y)\n",
    "df_y.head(10)"
   ]
  },
  {
   "cell_type": "code",
   "execution_count": 3,
   "metadata": {},
   "outputs": [
    {
     "data": {
      "text/html": [
       "<div>\n",
       "<style scoped>\n",
       "    .dataframe tbody tr th:only-of-type {\n",
       "        vertical-align: middle;\n",
       "    }\n",
       "\n",
       "    .dataframe tbody tr th {\n",
       "        vertical-align: top;\n",
       "    }\n",
       "\n",
       "    .dataframe thead th {\n",
       "        text-align: right;\n",
       "    }\n",
       "</style>\n",
       "<table border=\"1\" class=\"dataframe\">\n",
       "  <thead>\n",
       "    <tr style=\"text-align: right;\">\n",
       "      <th></th>\n",
       "      <th>0</th>\n",
       "    </tr>\n",
       "  </thead>\n",
       "  <tbody>\n",
       "    <tr>\n",
       "      <th>0</th>\n",
       "      <td>0.08</td>\n",
       "    </tr>\n",
       "    <tr>\n",
       "      <th>1</th>\n",
       "      <td>0.77</td>\n",
       "    </tr>\n",
       "    <tr>\n",
       "      <th>2</th>\n",
       "      <td>0.87</td>\n",
       "    </tr>\n",
       "    <tr>\n",
       "      <th>3</th>\n",
       "      <td>0.87</td>\n",
       "    </tr>\n",
       "    <tr>\n",
       "      <th>4</th>\n",
       "      <td>0.55</td>\n",
       "    </tr>\n",
       "    <tr>\n",
       "      <th>5</th>\n",
       "      <td>0.29</td>\n",
       "    </tr>\n",
       "    <tr>\n",
       "      <th>6</th>\n",
       "      <td>0.60</td>\n",
       "    </tr>\n",
       "    <tr>\n",
       "      <th>7</th>\n",
       "      <td>0.26</td>\n",
       "    </tr>\n",
       "    <tr>\n",
       "      <th>8</th>\n",
       "      <td>0.48</td>\n",
       "    </tr>\n",
       "    <tr>\n",
       "      <th>9</th>\n",
       "      <td>0.94</td>\n",
       "    </tr>\n",
       "  </tbody>\n",
       "</table>\n",
       "</div>"
      ],
      "text/plain": [
       "      0\n",
       "0  0.08\n",
       "1  0.77\n",
       "2  0.87\n",
       "3  0.87\n",
       "4  0.55\n",
       "5  0.29\n",
       "6  0.60\n",
       "7  0.26\n",
       "8  0.48\n",
       "9  0.94"
      ]
     },
     "execution_count": 3,
     "metadata": {},
     "output_type": "execute_result"
    }
   ],
   "source": [
    "df_pred = pd.DataFrame(pred)\n",
    "df_pred.head(10)"
   ]
  },
  {
   "cell_type": "markdown",
   "metadata": {},
   "source": [
    "First let's have a look on the distribution of positive and negative classes in this set."
   ]
  },
  {
   "cell_type": "code",
   "execution_count": 4,
   "metadata": {},
   "outputs": [
    {
     "name": "stdout",
     "output_type": "stream",
     "text": [
      "Proportion of positives: 0.6\n",
      "Proportion of negatives: 0.4\n"
     ]
    }
   ],
   "source": [
    "print(f\"Proportion of positives: {np.sum(y==1)/len(y)}\")\n",
    "print(f\"Proportion of negatives: {np.sum(y==0)/len(y)}\")"
   ]
  },
  {
   "cell_type": "markdown",
   "metadata": {},
   "source": [
    "Now let's suppose the standard threshold, $th = 0.5$ and get the values of **TN**, **TP**, **FN** and **FP**. "
   ]
  },
  {
   "cell_type": "code",
   "execution_count": 5,
   "metadata": {},
   "outputs": [
    {
     "data": {
      "text/plain": [
       "array([False,  True,  True,  True,  True, False,  True, False, False,\n",
       "        True,  True,  True,  True,  True, False,  True, False, False,\n",
       "        True,  True,  True,  True,  True,  True, False,  True,  True,\n",
       "        True,  True,  True,  True,  True,  True,  True, False,  True,\n",
       "        True,  True,  True,  True,  True, False, False,  True,  True,\n",
       "       False, False,  True,  True,  True, False,  True,  True,  True,\n",
       "        True,  True,  True,  True, False,  True, False,  True,  True,\n",
       "        True,  True,  True,  True, False,  True,  True,  True,  True,\n",
       "        True,  True,  True,  True, False, False,  True, False, False,\n",
       "        True, False, False,  True,  True, False, False, False,  True,\n",
       "       False,  True,  True,  True,  True,  True,  True,  True, False,\n",
       "       False, False, False,  True,  True, False,  True,  True, False,\n",
       "        True,  True, False,  True,  True, False,  True,  True,  True,\n",
       "       False,  True, False, False, False, False,  True, False,  True,\n",
       "        True, False,  True,  True,  True, False, False,  True,  True,\n",
       "        True,  True,  True,  True, False,  True, False,  True,  True,\n",
       "       False, False,  True,  True, False,  True,  True, False, False,\n",
       "       False,  True, False, False,  True,  True, False,  True, False,\n",
       "        True,  True,  True,  True,  True,  True,  True,  True,  True,\n",
       "        True,  True,  True,  True, False,  True,  True, False, False,\n",
       "        True, False, False, False,  True,  True,  True,  True,  True,\n",
       "        True,  True,  True,  True, False, False,  True,  True,  True,\n",
       "        True,  True,  True,  True, False,  True, False,  True,  True,\n",
       "       False, False, False,  True, False,  True,  True,  True,  True,\n",
       "       False, False,  True, False, False, False,  True,  True, False,\n",
       "        True,  True,  True, False, False,  True, False,  True,  True,\n",
       "       False,  True,  True,  True,  True, False,  True,  True,  True,\n",
       "       False,  True,  True,  True,  True, False,  True, False,  True,\n",
       "        True, False, False, False,  True, False, False, False,  True,\n",
       "        True,  True,  True, False,  True,  True,  True,  True, False,\n",
       "        True,  True, False,  True, False,  True,  True,  True, False,\n",
       "        True, False,  True, False, False,  True,  True,  True,  True,\n",
       "       False, False, False,  True,  True, False, False,  True,  True,\n",
       "       False,  True,  True])"
      ]
     },
     "execution_count": 5,
     "metadata": {},
     "output_type": "execute_result"
    }
   ],
   "source": [
    "pred_threshold = pred >= 0.5\n",
    "pred_threshold"
   ]
  },
  {
   "cell_type": "code",
   "execution_count": 6,
   "metadata": {},
   "outputs": [],
   "source": [
    "TN = np.sum((y == 0) & (pred_threshold == 0))\n",
    "TP = np.sum((y == 1) & (pred_threshold == 1))\n",
    "FN = np.sum((y == 1) & (pred_threshold == 0))\n",
    "FP = np.sum((y == 0) & (pred_threshold == 1))"
   ]
  },
  {
   "cell_type": "code",
   "execution_count": 7,
   "metadata": {},
   "outputs": [
    {
     "name": "stdout",
     "output_type": "stream",
     "text": [
      "Number of examples: 300\n",
      "Number of True Negatives: 101\n",
      "Number of True Positives: 177\n",
      "Number of False Negatives: 3\n",
      "Number of False Positives: 19\n"
     ]
    }
   ],
   "source": [
    "print(f\"Number of examples: {len(y)}\\nNumber of True Negatives: {TN}\\nNumber of True Positives: {TP}\\nNumber of False Negatives: {FN}\\nNumber of False Positives: {FP}\")"
   ]
  },
  {
   "cell_type": "markdown",
   "metadata": {},
   "source": [
    "It looks like the estimator is quite good!"
   ]
  },
  {
   "cell_type": "markdown",
   "metadata": {},
   "source": [
    "## FPR, TPR and Precision\n",
    "\n",
    "The **False Positive Rate** is defined as follows:\n",
    "\n",
    "$$ FPR = \\frac{FP}{FP+TN} $$\n",
    "\n",
    "Let's dig into this quantity. The denominator consists of all examples that are in the **negative** class (which may be correctly classified by the estimator, thus returning a **True Negative** or it may be wrongly classified by the estimator, therefore generating a **False Positive**). The numerator is the number of **False Positives**. So, the **FPR** measures, between all **negative** values the estimator produces, which ones are incorrect. In other words, the **FPR** measures how likely the estimator will give a *false alarm*. A simple calculation shows that $FPR = 1 - \\text{specificity}$.\n",
    "\n",
    "\n",
    "The **True Positive Rate** is defined as follows:\n",
    "\n",
    "$$ TPR = \\frac{TP}{TP + FN} $$\n",
    "\n",
    "The **TPR** is the same as the **sensitivity**, i.e., the probability that the estimator will output a positive class when the point is in fact positive (this is also called the **recall**).\n",
    "\n",
    "A third metric that is quite useful to understand the estimator is the **precision**, defined as:\n",
    "\n",
    "$$\\text{precision} = \\frac{TP}{TP + FP}$$\n",
    "\n",
    "\n",
    "Note that $\\text{precision} = PPV$. This quantity measures the *relevance* of the *alarmed cases*. In other words, it measures, between all examples the estimator classifies as positive, how many are in fact positive.\n"
   ]
  },
  {
   "cell_type": "code",
   "execution_count": 8,
   "metadata": {},
   "outputs": [
    {
     "name": "stdout",
     "output_type": "stream",
     "text": [
      "import numpy as np\r",
      "\r\n",
      "\r",
      "\r\n",
      "def get_tpr(y,pred,th = 0.5):\r",
      "\r\n",
      "    \"\"\"\r",
      "\r\n",
      "    Compute true positive rate of predictions at threshold.\r",
      "\r\n",
      "\r",
      "\r\n",
      "    Args:\r",
      "\r\n",
      "        y (np.array): ground truth, size (n_examples)\r",
      "\r\n",
      "        pred (np.array): model output, size (n_examples)\r",
      "\r\n",
      "        th (float): cutoff value for positive prediction from model\r",
      "\r\n",
      "    Returns:\r",
      "\r\n",
      "        TPR (float): True Positive Rate of predictions at threshold\r",
      "\r\n",
      "    \"\"\"\r",
      "\r\n",
      "\r",
      "\r\n",
      "    pred_threshold = pred >= th\r",
      "\r\n",
      "\r",
      "\r\n",
      "\r",
      "\r\n",
      "    TP = np.sum((y == 1) & (pred_threshold == 1))\r",
      "\r\n",
      "    FN =  np.sum((y == 1) & (pred_threshold == 0))\r",
      "\r\n",
      "\r",
      "\r\n",
      "    TPR = TP/(TP+FN)    \r",
      "\r\n",
      "\r",
      "\r\n",
      "    return TPR\r",
      "\r\n",
      "\r",
      "\r\n",
      "def get_fpr(y,pred,th = 0.5):\r",
      "\r\n",
      "    \"\"\"\r",
      "\r\n",
      "    Compute false positive rate of predictions at threshold.\r",
      "\r\n",
      "\r",
      "\r\n",
      "    Args:\r",
      "\r\n",
      "        y (np.array): ground truth, size (n_examples)\r",
      "\r\n",
      "        pred (np.array): model output, size (n_examples)\r",
      "\r\n",
      "        th (float): cutoff value for positive prediction from model\r",
      "\r\n",
      "    Returns:\r",
      "\r\n",
      "        FPR (float): False Positive Rate of predictions at threshold\r",
      "\r\n",
      "    \"\"\"\r",
      "\r\n",
      "\r",
      "\r\n",
      "    pred_threshold = pred >= th\r",
      "\r\n",
      "\r",
      "\r\n",
      "    TN = np.sum((y == 0) & (pred_threshold == 0))\r",
      "\r\n",
      "    FP =  np.sum((y == 0) & (pred_threshold == 1))\r",
      "\r\n",
      "\r",
      "\r\n",
      "    FPR = FP/(FP+TN)    \r",
      "\r\n",
      "\r",
      "\r\n",
      "    return FPR"
     ]
    }
   ],
   "source": [
    "# Let's compute the FPR, TPR, and Precision for the data examples we loaded. \n",
    "# We will use two functions from the utils library\n",
    "# called get_fpr and get_tpr\n",
    "!cat utils.py"
   ]
  },
  {
   "cell_type": "code",
   "execution_count": 9,
   "metadata": {},
   "outputs": [
    {
     "name": "stdout",
     "output_type": "stream",
     "text": [
      "\n",
      "FPR (1 - specificity): 0.1583\n",
      "TPR (sensitivity or recall): 0.9833\n",
      "Precision: 0.9031\n",
      "Specificity: 0.8417\n"
     ]
    }
   ],
   "source": [
    "FPR = get_fpr(y,pred)\n",
    "TPR = get_tpr(y,pred)\n",
    "precision = TP/(TP+FP)\n",
    "\n",
    "print()\n",
    "print(f\"FPR (1 - specificity): {FPR:.4f}\\nTPR (sensitivity or recall): {TPR:.4f}\\nPrecision: {precision:.4f}\\nSpecificity: {(1-FPR):.4f}\")"
   ]
  },
  {
   "cell_type": "markdown",
   "metadata": {},
   "source": [
    "Of course, an ideal estimator would be fully precise (no false positives between the positively classified) and would be able to identify every positive point (every positive point would be identified as positive). However, in real world applications, this is not possible due to the random nature of the distributions and also due to the limited resources we have to build the features, train the models and so on. So often we must decide what is more *expensive*, a **false positive** or a **false negative**. If the later is more expensive, then we should aim to improve the **precision**, otherwise, we must consider the **recall**.\n",
    "\n",
    "To illustrate the case where a false positive is less expansive as a false negative is about detecting fraudulent behavior. A false positive would be to mistakenly identify someone as a fraudster, which can cost for instance, time of doing a manual investigation in that particular person. On the other hand, a false negative can cost a lot, since we would be allowing a fraudster to freely act.  \n",
    "Now, a situation where a false positive is more expensive than a false negative is when deciding if a patient has cancer or not. A false positive can cost a lot to the patient, where it can go through unecessary, sometimes life-threatening (when the pacient does not have cancer), treatment."
   ]
  },
  {
   "cell_type": "markdown",
   "metadata": {},
   "source": [
    "## ROC Curve\n",
    "\n",
    "Now, let's precisely define the ROC curve. \n",
    "\n",
    "For now own, given a threshold $th \\in \\left[0,1\\right]$, we will say that the predicted value $p(x)$ of a point $x$ is $1$ if $p(x) \\geq th$ and $0$ otherwise.\n",
    "\n",
    "For a given estimator $p$, we will compute the $FPR$ and $TPR$ of $p$ over a set of (previously classified) examples $X$, for every threshold $th \\in \\left[0,1\\right]$. Then we plot a graphic where on the $y$-axis we show the $TPR$ and on the $x$-axis we show the $FPR$. Before you go hands-on and draw your own ROC curve of some predictors, let's take a look on two extreme examples. \n",
    "\n",
    "Firstly, let's consider the threshold $th = 0$. In this case, every point $x$ that $p(x) \\geq 0$ will be classified as $1$, that is, the estimator only predicts $1$'s. This means that **there is no true negative**, since **there is no predicted negative examples**! So, $TN = FN = 0$ therefore, $FPR = TPR = 1$. Conversely, if $th = 1$, then if $p(x) \\geq 1$ then $x$ will be classified as $1$. Since we are dealing with probabilities, $p(x) = 1$ occurs with probability $0$, therefore we may suppose that $p(x) \\in \\left(0,1\\right)$ and considering $th = 1$ will give us only $0$'s and **there is no predicted positive examples**. This means that $FP = TP = 0$. A simple calculation shows us that $FPR = TPR = 0$. These are the extreme cases. \n",
    "\n",
    "Now let's draw our own ROC curves!"
   ]
  },
  {
   "cell_type": "markdown",
   "metadata": {},
   "source": [
    "Now, to draw the ROC curve, let's calculate the $FPR$ and $TPR$ for several thresholds values. "
   ]
  },
  {
   "cell_type": "code",
   "execution_count": 10,
   "metadata": {},
   "outputs": [],
   "source": [
    "# Run this cell \n",
    "tpr = [] # In this list there will be appended the tpr values for each threshold\n",
    "fpr = [] # In this list there will be appended the fpr values for each threshold\n",
    "for th in np.arange(0,1,0.01):\n",
    "    tpr.append(get_tpr(y,pred,th))\n",
    "    fpr.append(get_fpr(y,pred,th))"
   ]
  },
  {
   "cell_type": "code",
   "execution_count": 11,
   "metadata": {},
   "outputs": [
    {
     "data": {
      "text/plain": [
       "Text(0.5, 1.0, 'ROC Curve for the estimator')"
      ]
     },
     "execution_count": 11,
     "metadata": {},
     "output_type": "execute_result"
    },
    {
     "data": {
      "image/png": "[encoded data removed]",
      "text/plain": [
       "<Figure size 432x288 with 1 Axes>"
      ]
     },
     "metadata": {},
     "output_type": "display_data"
    }
   ],
   "source": [
    "# Now let's use matplotlib to plot the function\n",
    "plt.plot(fpr,tpr)\n",
    "plt.plot(0,1,'ro')\n",
    "plt.legend(['Estimator'])\n",
    "plt.annotate(f'  ({0}, {1})',xy = (0,1))\n",
    "plt.xlabel('False Positive Rate (1 - sepecificity)')\n",
    "plt.ylabel('True Positive Rate (sensitivity)')\n",
    "plt.title('ROC Curve for the estimator')"
   ]
  },
  {
   "cell_type": "markdown",
   "metadata": {},
   "source": [
    "The highlighted point $\\left(0,1\\right)$ is the *ideal* point. At this point, we would have the *ideal* estimator, as we discussed before. At this threshold, the estimator would have a **True Positive Rate** of $1$ and a **False Positive Rate** of $0$. As mentioned before, such estimator cannot exist in real applications. However, the closest the point is to the point $\\left(0,1\\right)$, the better will be the decisions your estimator will make. Conversely, the farthest the point is from the *ideal point*, less discriminative will be your classification. \n",
    "\n",
    "Now let's consider an extreme case: the **random guesser**! \n",
    "\n",
    "The *random guesser* is an estimator that $r$, that, for every point $x$, will randomnly and uniformly choose a value in the interval $\\left[0,1\\right]$. Therefore, this estimator has **no predictive value**! In other words, the value it outputs for a given point $x$ says **nothing** about which class it belongs to! "
   ]
  },
  {
   "cell_type": "markdown",
   "metadata": {},
   "source": [
    "Now, let's implement the **random guesser**!"
   ]
  },
  {
   "cell_type": "code",
   "execution_count": 13,
   "metadata": {},
   "outputs": [],
   "source": [
    "# Run this cell\n",
    "def random_guesser(x):\n",
    "    # For every point x, it returns a random point between 0 and 1. \n",
    "    # Note that it do not use any information about the point x!\n",
    "    return round(np.random.rand(),2) "
   ]
  },
  {
   "cell_type": "markdown",
   "metadata": {},
   "source": [
    "For each class labels $y$, let's generate a random prediction value and store it in a list. "
   ]
  },
  {
   "cell_type": "code",
   "execution_count": 14,
   "metadata": {},
   "outputs": [
    {
     "name": "stdout",
     "output_type": "stream",
     "text": [
      "[0.37, 0.95, 0.73, 0.6, 0.16, 0.16, 0.06, 0.87, 0.6, 0.71, 0.02, 0.97, 0.83, 0.21, 0.18, 0.18, 0.3, 0.52, 0.43, 0.29]\n"
     ]
    }
   ],
   "source": [
    "random_predictions = [random_guesser(x) for x in y] \n",
    "print(random_predictions[:20])"
   ]
  },
  {
   "cell_type": "markdown",
   "metadata": {},
   "source": [
    "Now let's compute the fpr and tpr lists again."
   ]
  },
  {
   "cell_type": "code",
   "execution_count": 15,
   "metadata": {},
   "outputs": [],
   "source": [
    "# Run this cell \n",
    "random_tpr = [] \n",
    "random_fpr = [] \n",
    "for th in np.arange(0,1,0.01):\n",
    "    random_tpr.append(get_tpr(y,random_predictions,th))\n",
    "    random_fpr.append(get_fpr(y,random_predictions,th))"
   ]
  },
  {
   "cell_type": "markdown",
   "metadata": {},
   "source": [
    "And finally, let's draw the ROC Cruve for this predictior, together with the prediction for the previous predictor!"
   ]
  },
  {
   "cell_type": "code",
   "execution_count": 16,
   "metadata": {},
   "outputs": [
    {
     "data": {
      "text/plain": [
       "Text(0.5, 1.0, 'ROC Curves for the estimators')"
      ]
     },
     "execution_count": 16,
     "metadata": {},
     "output_type": "execute_result"
    },
    {
     "data": {
      "image/png": "[encoded data removed]",
      "text/plain": [
       "<Figure size 432x288 with 1 Axes>"
      ]
     },
     "metadata": {},
     "output_type": "display_data"
    }
   ],
   "source": [
    "# Now let's use matplotlib to plot the function\n",
    "plt.plot(random_fpr,random_tpr)\n",
    "plt.plot(fpr,tpr)\n",
    "plt.legend(['Random Guesser','Actual Predictor'])\n",
    "plt.plot(0,1,'ro')\n",
    "plt.annotate(f'  ({0}, {1})',xy = (0,1))\n",
    "plt.xlabel('False Positive Rate (1 - sepecificity)')\n",
    "plt.ylabel('True Positive Rate (sensitivity)')\n",
    "plt.title('ROC Curves for the estimators')"
   ]
  },
  {
   "cell_type": "markdown",
   "metadata": {},
   "source": [
    "As you can see, the **random guesser** behaves almost linear. This happens because, since the predictor cannot properly split the classes, the $0$'s and $1$'s are uniformly distributed over every prediction threshold, so, as we increase the threshold, this linearly increases the $FPR$ and $TPR$. So, the closest the curve is from the identity curve, the less predictive power has the predictor. Usually, we plot a dotted diagonal line from $\\left(0,1\\right)$ to $\\left(0,1\\right)$, to indicate that anything close to that dotted line has very weak (or hasn't at all) predictive power. "
   ]
  },
  {
   "cell_type": "code",
   "execution_count": 17,
   "metadata": {},
   "outputs": [
    {
     "data": {
      "text/plain": [
       "Text(0.5, 1.0, 'ROC Curves for the estimators')"
      ]
     },
     "execution_count": 17,
     "metadata": {},
     "output_type": "execute_result"
    },
    {
     "data": {
      "image/png": "[encoded data removed]",
      "text/plain": [
       "<Figure size 432x288 with 1 Axes>"
      ]
     },
     "metadata": {},
     "output_type": "display_data"
    }
   ],
   "source": [
    "# Now let's use matplotlib to plot the function\n",
    "plt.plot(random_fpr,random_tpr)\n",
    "plt.plot(fpr,tpr)\n",
    "plt.plot(np.arange(0,1,0.01),np.arange(0,1,0.01), 'r--')\n",
    "plt.legend(['Random Guesser','Actual Predictor'])\n",
    "plt.plot(0,1,'ro')\n",
    "plt.annotate(f'  ({0}, {1})',xy = (0,1))\n",
    "plt.xlabel('False Positive Rate (1 - sepecificity)')\n",
    "plt.ylabel('True Positive Rate (sensitivity)')\n",
    "plt.title('ROC Curves for the estimators')"
   ]
  },
  {
   "cell_type": "markdown",
   "metadata": {},
   "source": [
    "## A Practical Example \n",
    "\n",
    "Now, let's deal with another dataset. "
   ]
  },
  {
   "cell_type": "code",
   "execution_count": 18,
   "metadata": {},
   "outputs": [],
   "source": [
    "y_2 = np.loadtxt('data/y_true_unbalanced_set.txt')\n",
    "pred_2 = np.loadtxt('data/pred_unbalanced_set.txt')"
   ]
  },
  {
   "cell_type": "code",
   "execution_count": 19,
   "metadata": {},
   "outputs": [
    {
     "name": "stdout",
     "output_type": "stream",
     "text": [
      "Proportion of positives: 0.08\n",
      "Proportion of negatives: 0.92\n"
     ]
    }
   ],
   "source": [
    "print(f\"Proportion of positives: {np.sum(y_2==1)/len(y_2)}\")\n",
    "print(f\"Proportion of negatives: {np.sum(y_2==0)/len(y_2)}\")"
   ]
  },
  {
   "cell_type": "markdown",
   "metadata": {},
   "source": [
    "Now the classes are highly unbalanced! Only $8\\%$ of examples are in the positive class. Let's suppose $th = 0.5$ and get the metrics again."
   ]
  },
  {
   "cell_type": "code",
   "execution_count": 20,
   "metadata": {},
   "outputs": [],
   "source": [
    "pred_2_threshold = pred_2 >= 0.5\n",
    "\n",
    "TN = np.sum((y_2 == 0) & (pred_2_threshold == 0))\n",
    "TP = np.sum((y_2 == 1) & (pred_2_threshold == 1))\n",
    "FN = np.sum((y_2 == 1) & (pred_2_threshold == 0))\n",
    "FP = np.sum((y_2 == 0) & (pred_2_threshold == 1))"
   ]
  },
  {
   "cell_type": "code",
   "execution_count": 21,
   "metadata": {},
   "outputs": [
    {
     "name": "stdout",
     "output_type": "stream",
     "text": [
      "Number of examples: 300\n",
      "Number of True Negatives: 276\n",
      "Number of True Positives: 2\n",
      "Number of False Negatives: 22\n",
      "Number of False Positives: 0\n"
     ]
    }
   ],
   "source": [
    "print(f\"Number of examples: {len(y_2)}\\nNumber of True Negatives: {TN}\\nNumber of True Positives: {TP}\\nNumber of False Negatives: {FN}\\nNumber of False Positives: {FP}\")"
   ]
  },
  {
   "cell_type": "markdown",
   "metadata": {},
   "source": [
    "Well, this looks like a very bad estimator! Very good at classifying the negative class, but not when classifying the positive ones. The metrics are:"
   ]
  },
  {
   "cell_type": "code",
   "execution_count": 22,
   "metadata": {},
   "outputs": [
    {
     "name": "stdout",
     "output_type": "stream",
     "text": [
      "FPR (1 - specificity): 0.0000\n",
      "TPR (sensitivity or recall): 0.0833\n",
      "Precision: 1.0000\n",
      "Specificity: 1.0000\n"
     ]
    }
   ],
   "source": [
    "# Cell 21\n",
    "FPR = get_fpr(y_2,pred_2)\n",
    "TPR = get_tpr(y_2,pred_2)\n",
    "precision = TP/(TP+FP)\n",
    "\n",
    "print(f\"FPR (1 - specificity): {FPR:.4f}\\nTPR (sensitivity or recall): {TPR:.4f}\\nPrecision: {precision:.4f}\\nSpecificity: {(1-FPR):.4f}\")"
   ]
  },
  {
   "cell_type": "markdown",
   "metadata": {},
   "source": [
    "This is indeed a very precise estimator, since every examples that it classified as positive is in fact positive! On the other hand, it only was able to identify around $8\\%$ of every positive class. Quite bad, right? Let's take a look at the ROC Curve."
   ]
  },
  {
   "cell_type": "code",
   "execution_count": 23,
   "metadata": {},
   "outputs": [],
   "source": [
    "tpr_2 = [] \n",
    "fpr_2 = [] \n",
    "for th in np.arange(0,1,0.01):\n",
    "    tpr_2.append(get_tpr(y_2,pred_2,th))\n",
    "    fpr_2.append(get_fpr(y_2,pred_2,th))"
   ]
  },
  {
   "cell_type": "code",
   "execution_count": 24,
   "metadata": {},
   "outputs": [
    {
     "data": {
      "text/plain": [
       "Text(0.5, 1.0, 'ROC Curves for the estimators')"
      ]
     },
     "execution_count": 24,
     "metadata": {},
     "output_type": "execute_result"
    },
    {
     "data": {
      "image/png": "[encoded data removed]",
      "text/plain": [
       "<Figure size 432x288 with 1 Axes>"
      ]
     },
     "metadata": {},
     "output_type": "display_data"
    }
   ],
   "source": [
    "# Now let's use matplotlib to plot the function\n",
    "plt.plot(fpr_2,tpr_2)\n",
    "plt.plot(np.arange(0,1,0.01),np.arange(0,1,0.01), 'r--')\n",
    "plt.legend(['Estimator'])\n",
    "plt.plot(0,1,'ro')\n",
    "plt.annotate(f'  ({0}, {1})',xy = (0,1))\n",
    "plt.xlabel('False Positive Rate (1 - sepecificity)')\n",
    "plt.ylabel('True Positive Rate (sensitivity)')\n",
    "plt.title('ROC Curves for the estimators')"
   ]
  },
  {
   "cell_type": "markdown",
   "metadata": {},
   "source": [
    "As we mentioned before, the closer the curve is to the *ideal point*, the better will be the estimator. Let's try to find the closest point of the ROC Curve to the point $\\left(0,1\\right)$ and get the threshold that is associated with this point. For this, we need the euclidean distance function. "
   ]
  },
  {
   "cell_type": "code",
   "execution_count": 25,
   "metadata": {},
   "outputs": [],
   "source": [
    "def euclidean_distance(x,y):\n",
    "    \"\"\"\n",
    "    Compute the euclidean distance between two vectors in R2\n",
    "    Args:\n",
    "        x,y (np.array or list or tuple): R2 vectors\n",
    "    Returns:\n",
    "        d (float): The euclidean distance between x and y\n",
    "    \"\"\"\n",
    "    d = ((x[0] - y[0])**2 + (x[1] - y[1])**2)**0.5\n",
    "    return d"
   ]
  },
  {
   "cell_type": "markdown",
   "metadata": {},
   "source": [
    "For this, we need to store the threshold and its related point in the ROC Curve. We can do this by making a small modification in the code on cell $123$."
   ]
  },
  {
   "cell_type": "code",
   "execution_count": 26,
   "metadata": {},
   "outputs": [],
   "source": [
    "# We will build a list with the following structure: [(threshold, associated point on ROC Curve)]\n",
    "examples_and_thresholds = []\n",
    "for th in np.arange(0,1,0.01):\n",
    "    examples_and_thresholds.append(((th,(get_fpr(y_2,pred_2,th),get_tpr(y_2,pred_2,th)))))\n"
   ]
  },
  {
   "cell_type": "code",
   "execution_count": 27,
   "metadata": {},
   "outputs": [
    {
     "data": {
      "text/plain": [
       "(0.0, (1.0, 1.0))"
      ]
     },
     "execution_count": 27,
     "metadata": {},
     "output_type": "execute_result"
    }
   ],
   "source": [
    "examples_and_thresholds[0]"
   ]
  },
  {
   "cell_type": "markdown",
   "metadata": {},
   "source": [
    "Now, for every point in this list we will compute the euclidean distance between it and the ideal point $\\left(0,1\\right)$."
   ]
  },
  {
   "cell_type": "code",
   "execution_count": 28,
   "metadata": {},
   "outputs": [],
   "source": [
    "threshold_and_distances = []\n",
    "for th,point in examples_and_thresholds:\n",
    "    threshold_and_distances.append((th,euclidean_distance((0,1),point),point))\n",
    "    \n"
   ]
  },
  {
   "cell_type": "markdown",
   "metadata": {},
   "source": [
    "Now we just have to sort the list using the distance as key!"
   ]
  },
  {
   "cell_type": "code",
   "execution_count": 29,
   "metadata": {},
   "outputs": [],
   "source": [
    "threshold_and_distances.sort(key = lambda x: x[1])"
   ]
  },
  {
   "cell_type": "code",
   "execution_count": 30,
   "metadata": {},
   "outputs": [
    {
     "name": "stdout",
     "output_type": "stream",
     "text": [
      "The chosen threshold therefore is 0.08\n"
     ]
    }
   ],
   "source": [
    "print(f\"The chosen threshold therefore is {threshold_and_distances[0][0]}\")"
   ]
  },
  {
   "cell_type": "markdown",
   "metadata": {},
   "source": [
    "Therefore, the clostest point to the ideal point is the one that is generated by the threshold of $0.08$, i.e., we should classify a point to be positive if it predicted value is greater or equal $0.08$ and $0$ otherwise! Let's take a look where this point is in the ROC Curve!"
   ]
  },
  {
   "cell_type": "code",
   "execution_count": 31,
   "metadata": {},
   "outputs": [
    {
     "data": {
      "text/plain": [
       "Text(0.5, 1.0, 'ROC Curves for the estimators')"
      ]
     },
     "execution_count": 31,
     "metadata": {},
     "output_type": "execute_result"
    },
    {
     "data": {
      "image/png": "[encoded data removed]",
      "text/plain": [
       "<Figure size 432x288 with 1 Axes>"
      ]
     },
     "metadata": {},
     "output_type": "display_data"
    }
   ],
   "source": [
    "# Now let's use matplotlib to plot the function\n",
    "plt.plot(fpr_2,tpr_2)\n",
    "plt.plot(np.arange(0,1,0.01),np.arange(0,1,0.01), 'r--')\n",
    "plt.legend(['Estimator'])\n",
    "plt.plot(0,1,'ro')\n",
    "plt.plot(*threshold_and_distances[0][2], 'ro')\n",
    "plt.annotate(f'  ({0}, {1})',xy = (0,1))\n",
    "plt.annotate(f'  ({threshold_and_distances[0][2][0]:.2f}, {threshold_and_distances[0][2][1]:.2f})',xy = threshold_and_distances[0][2])\n",
    "plt.xlabel('False Positive Rate (1 - sepecificity)')\n",
    "plt.ylabel('True Positive Rate (sensitivity)')\n",
    "plt.title('ROC Curves for the estimators')"
   ]
  },
  {
   "cell_type": "markdown",
   "metadata": {},
   "source": [
    "Finally, let's have a look on the metrics this new threshold gives us!"
   ]
  },
  {
   "cell_type": "code",
   "execution_count": 32,
   "metadata": {},
   "outputs": [],
   "source": [
    "pred_2_threshold = pred_2 >= 0.08\n",
    "\n",
    "TN = np.sum((y_2 == 0) & (pred_2_threshold == 0))\n",
    "TP = np.sum((y_2 == 1) & (pred_2_threshold == 1))\n",
    "FN = np.sum((y_2 == 1) & (pred_2_threshold == 0))\n",
    "FP = np.sum((y_2 == 0) & (pred_2_threshold == 1))"
   ]
  },
  {
   "cell_type": "code",
   "execution_count": 33,
   "metadata": {},
   "outputs": [
    {
     "name": "stdout",
     "output_type": "stream",
     "text": [
      "Number of examples: 300\n",
      "Number of True Negatives: 234\n",
      "Number of True Positives: 18\n",
      "Number of False Negatives: 6\n",
      "Number of False Positives: 42\n"
     ]
    }
   ],
   "source": [
    "print(f\"Number of examples: {len(y_2)}\\nNumber of True Negatives: {TN}\\nNumber of True Positives: {TP}\\nNumber of False Negatives: {FN}\\nNumber of False Positives: {FP}\")"
   ]
  },
  {
   "cell_type": "markdown",
   "metadata": {},
   "source": [
    "It looks a bit better! Finally, let's have a look on the TPR, FPR, Sensitivity, Specificity, and Precision"
   ]
  },
  {
   "cell_type": "code",
   "execution_count": 34,
   "metadata": {},
   "outputs": [
    {
     "name": "stdout",
     "output_type": "stream",
     "text": [
      "FPR (1 - specificity): 0.1522\n",
      "TPR (sensitivity or recall): 0.7500\n",
      "Precision: 0.3000\n",
      "Specificity: 0.8478\n"
     ]
    }
   ],
   "source": [
    "FPR = get_fpr(y_2,pred_2,0.08)\n",
    "TPR = get_tpr(y_2,pred_2,0.08)\n",
    "precision = TP/(TP+FP)\n",
    "\n",
    "print(f\"FPR (1 - specificity): {FPR:.4f}\\nTPR (sensitivity or recall): {TPR:.4f}\\nPrecision: {precision:.4f}\\nSpecificity: {(1-FPR):.4f}\")"
   ]
  },
  {
   "cell_type": "markdown",
   "metadata": {},
   "source": [
    "If you compare with the results in `Cell 21`, this is a nice improvement! Of course, the precision dropped down, but overall the predictions are better. There is no right answer here, if a False Positive is very expensive, we may want sacrifice the recall to increase precision, by increasing the threshold. "
   ]
  },
  {
   "cell_type": "markdown",
   "metadata": {},
   "source": [
    "Congratulations, you have finished this ungraded lab!"
   ]
  },
  {
   "cell_type": "code",
   "execution_count": null,
   "metadata": {},
   "outputs": [],
   "source": []
  }
 ],
 "metadata": {
  "kernelspec": {
   "display_name": "Python 3",
   "language": "python",
   "name": "python3"
  },
  "language_info": {
   "codemirror_mode": {
    "name": "ipython",
    "version": 3
   },
   "file_extension": ".py",
   "mimetype": "text/x-python",
   "name": "python",
   "nbconvert_exporter": "python",
   "pygments_lexer": "ipython3",
   "version": "3.6.3"
  }
 },
 "nbformat": 4,
 "nbformat_minor": 5
}
